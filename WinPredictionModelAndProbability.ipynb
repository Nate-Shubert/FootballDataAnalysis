{
  "nbformat": 4,
  "nbformat_minor": 0,
  "metadata": {
    "colab": {
      "provenance": [],
      "authorship_tag": "ABX9TyMMMlEQEo7s50Uom5WeDQFV",
      "include_colab_link": true
    },
    "kernelspec": {
      "name": "python3",
      "display_name": "Python 3"
    },
    "language_info": {
      "name": "python"
    }
  },
  "cells": [
    {
      "cell_type": "markdown",
      "metadata": {
        "id": "view-in-github",
        "colab_type": "text"
      },
      "source": [
        "<a href=\"https://colab.research.google.com/github/Nate-Shubert/FootballDataAnalysis/blob/main/WinPredictionModelAndProbability.ipynb\" target=\"_parent\"><img src=\"https://colab.research.google.com/assets/colab-badge.svg\" alt=\"Open In Colab\"/></a>"
      ]
    },
    {
      "cell_type": "markdown",
      "source": [
        "Standard Setup, read data saved in google drive."
      ],
      "metadata": {
        "id": "X7kCiaOETZJY"
      }
    },
    {
      "cell_type": "code",
      "source": [
        "# Standard imports\n",
        "import tensorflow as tf\n",
        "from tensorflow import keras\n",
        "import numpy as np\n",
        "import pandas as pd\n",
        "import matplotlib.pyplot as plt\n",
        "import seaborn as sns\n",
        "\n",
        "np.random.seed(42)\n",
        "tf.random.set_seed(42)"
      ],
      "metadata": {
        "id": "HsTS5Eer6zxX"
      },
      "execution_count": null,
      "outputs": []
    },
    {
      "cell_type": "code",
      "execution_count": null,
      "metadata": {
        "id": "vfjYBYoC6l7l"
      },
      "outputs": [],
      "source": [
        "from sklearn import linear_model\n",
        "clf = linear_model.LinearRegression()\n"
      ]
    },
    {
      "cell_type": "code",
      "source": [
        "from google.colab import drive\n",
        "drive.mount('/content/drive')"
      ],
      "metadata": {
        "colab": {
          "base_uri": "https://localhost:8080/"
        },
        "id": "KGqIy3Jv7DrW",
        "outputId": "de449190-859d-4230-e912-d39ac83055a0"
      },
      "execution_count": null,
      "outputs": [
        {
          "output_type": "stream",
          "name": "stdout",
          "text": [
            "Drive already mounted at /content/drive; to attempt to forcibly remount, call drive.mount(\"/content/drive\", force_remount=True).\n"
          ]
        }
      ]
    },
    {
      "cell_type": "code",
      "source": [
        "filepath = '/content/drive/MyDrive/NFL/CleanDF.csv'\n",
        "data = pd.read_csv(filepath)"
      ],
      "metadata": {
        "id": "SV0AOo7Z--6u"
      },
      "execution_count": null,
      "outputs": []
    },
    {
      "cell_type": "code",
      "source": [
        "data.head()"
      ],
      "metadata": {
        "colab": {
          "base_uri": "https://localhost:8080/",
          "height": 366
        },
        "id": "1B_Ht1npAKs9",
        "outputId": "5043399c-5e0c-4554-9748-0cca43fd5dfa"
      },
      "execution_count": null,
      "outputs": [
        {
          "output_type": "execute_result",
          "data": {
            "text/plain": [
              "   Unnamed: 0                 Tm   W   L  T   W-L%   PF   PA   PD   MoV  ...  \\\n",
              "0           0  Arizona Cardinals  11   6  0  0.647  449  366   83   4.9  ...   \n",
              "1           1    Atlanta Falcons   7  10  0  0.412  313  459 -146  -8.6  ...   \n",
              "2           2   Baltimore Ravens   8   9  0  0.471  387  392   -5  -0.3  ...   \n",
              "3           3      Buffalo Bills  11   6  0  0.647  483  289  194  11.4  ...   \n",
              "4           4  Carolina Panthers   5  12  0  0.294  304  404 -100  -5.9  ...   \n",
              "\n",
              "   Def Sc%  Def TO%  Def EXP  Pred Win %  W-L Diff  Exponent     Cmp %  \\\n",
              "0     35.6     15.3   -19.46    0.636459  0.010541      2.74  0.702200   \n",
              "1     44.7     11.2  -136.74    0.259417  0.152583      2.74  0.657941   \n",
              "2     34.2      7.9  -107.49    0.491207  0.020207      2.74  0.648118   \n",
              "3     28.0     14.5    36.13    0.803330  0.156330      2.74  0.633588   \n",
              "4     37.6      8.1    -9.14    0.314488  0.020488      2.74  0.580968   \n",
              "\n",
              "    PG Rate  1D per Play  TD per Play  \n",
              "0  7.937394     3.068120    22.520000  \n",
              "1  7.137871     3.287582    32.451613  \n",
              "2  7.130933     3.007614    30.384615  \n",
              "3  7.174046     2.871859    20.410714  \n",
              "4  5.988314     3.434783    35.677419  \n",
              "\n",
              "[5 rows x 71 columns]"
            ],
            "text/html": [
              "\n",
              "  <div id=\"df-a81ca3a4-eab3-47fb-853a-1ff877b9eeeb\">\n",
              "    <div class=\"colab-df-container\">\n",
              "      <div>\n",
              "<style scoped>\n",
              "    .dataframe tbody tr th:only-of-type {\n",
              "        vertical-align: middle;\n",
              "    }\n",
              "\n",
              "    .dataframe tbody tr th {\n",
              "        vertical-align: top;\n",
              "    }\n",
              "\n",
              "    .dataframe thead th {\n",
              "        text-align: right;\n",
              "    }\n",
              "</style>\n",
              "<table border=\"1\" class=\"dataframe\">\n",
              "  <thead>\n",
              "    <tr style=\"text-align: right;\">\n",
              "      <th></th>\n",
              "      <th>Unnamed: 0</th>\n",
              "      <th>Tm</th>\n",
              "      <th>W</th>\n",
              "      <th>L</th>\n",
              "      <th>T</th>\n",
              "      <th>W-L%</th>\n",
              "      <th>PF</th>\n",
              "      <th>PA</th>\n",
              "      <th>PD</th>\n",
              "      <th>MoV</th>\n",
              "      <th>...</th>\n",
              "      <th>Def Sc%</th>\n",
              "      <th>Def TO%</th>\n",
              "      <th>Def EXP</th>\n",
              "      <th>Pred Win %</th>\n",
              "      <th>W-L Diff</th>\n",
              "      <th>Exponent</th>\n",
              "      <th>Cmp %</th>\n",
              "      <th>PG Rate</th>\n",
              "      <th>1D per Play</th>\n",
              "      <th>TD per Play</th>\n",
              "    </tr>\n",
              "  </thead>\n",
              "  <tbody>\n",
              "    <tr>\n",
              "      <th>0</th>\n",
              "      <td>0</td>\n",
              "      <td>Arizona Cardinals</td>\n",
              "      <td>11</td>\n",
              "      <td>6</td>\n",
              "      <td>0</td>\n",
              "      <td>0.647</td>\n",
              "      <td>449</td>\n",
              "      <td>366</td>\n",
              "      <td>83</td>\n",
              "      <td>4.9</td>\n",
              "      <td>...</td>\n",
              "      <td>35.6</td>\n",
              "      <td>15.3</td>\n",
              "      <td>-19.46</td>\n",
              "      <td>0.636459</td>\n",
              "      <td>0.010541</td>\n",
              "      <td>2.74</td>\n",
              "      <td>0.702200</td>\n",
              "      <td>7.937394</td>\n",
              "      <td>3.068120</td>\n",
              "      <td>22.520000</td>\n",
              "    </tr>\n",
              "    <tr>\n",
              "      <th>1</th>\n",
              "      <td>1</td>\n",
              "      <td>Atlanta Falcons</td>\n",
              "      <td>7</td>\n",
              "      <td>10</td>\n",
              "      <td>0</td>\n",
              "      <td>0.412</td>\n",
              "      <td>313</td>\n",
              "      <td>459</td>\n",
              "      <td>-146</td>\n",
              "      <td>-8.6</td>\n",
              "      <td>...</td>\n",
              "      <td>44.7</td>\n",
              "      <td>11.2</td>\n",
              "      <td>-136.74</td>\n",
              "      <td>0.259417</td>\n",
              "      <td>0.152583</td>\n",
              "      <td>2.74</td>\n",
              "      <td>0.657941</td>\n",
              "      <td>7.137871</td>\n",
              "      <td>3.287582</td>\n",
              "      <td>32.451613</td>\n",
              "    </tr>\n",
              "    <tr>\n",
              "      <th>2</th>\n",
              "      <td>2</td>\n",
              "      <td>Baltimore Ravens</td>\n",
              "      <td>8</td>\n",
              "      <td>9</td>\n",
              "      <td>0</td>\n",
              "      <td>0.471</td>\n",
              "      <td>387</td>\n",
              "      <td>392</td>\n",
              "      <td>-5</td>\n",
              "      <td>-0.3</td>\n",
              "      <td>...</td>\n",
              "      <td>34.2</td>\n",
              "      <td>7.9</td>\n",
              "      <td>-107.49</td>\n",
              "      <td>0.491207</td>\n",
              "      <td>0.020207</td>\n",
              "      <td>2.74</td>\n",
              "      <td>0.648118</td>\n",
              "      <td>7.130933</td>\n",
              "      <td>3.007614</td>\n",
              "      <td>30.384615</td>\n",
              "    </tr>\n",
              "    <tr>\n",
              "      <th>3</th>\n",
              "      <td>3</td>\n",
              "      <td>Buffalo Bills</td>\n",
              "      <td>11</td>\n",
              "      <td>6</td>\n",
              "      <td>0</td>\n",
              "      <td>0.647</td>\n",
              "      <td>483</td>\n",
              "      <td>289</td>\n",
              "      <td>194</td>\n",
              "      <td>11.4</td>\n",
              "      <td>...</td>\n",
              "      <td>28.0</td>\n",
              "      <td>14.5</td>\n",
              "      <td>36.13</td>\n",
              "      <td>0.803330</td>\n",
              "      <td>0.156330</td>\n",
              "      <td>2.74</td>\n",
              "      <td>0.633588</td>\n",
              "      <td>7.174046</td>\n",
              "      <td>2.871859</td>\n",
              "      <td>20.410714</td>\n",
              "    </tr>\n",
              "    <tr>\n",
              "      <th>4</th>\n",
              "      <td>4</td>\n",
              "      <td>Carolina Panthers</td>\n",
              "      <td>5</td>\n",
              "      <td>12</td>\n",
              "      <td>0</td>\n",
              "      <td>0.294</td>\n",
              "      <td>304</td>\n",
              "      <td>404</td>\n",
              "      <td>-100</td>\n",
              "      <td>-5.9</td>\n",
              "      <td>...</td>\n",
              "      <td>37.6</td>\n",
              "      <td>8.1</td>\n",
              "      <td>-9.14</td>\n",
              "      <td>0.314488</td>\n",
              "      <td>0.020488</td>\n",
              "      <td>2.74</td>\n",
              "      <td>0.580968</td>\n",
              "      <td>5.988314</td>\n",
              "      <td>3.434783</td>\n",
              "      <td>35.677419</td>\n",
              "    </tr>\n",
              "  </tbody>\n",
              "</table>\n",
              "<p>5 rows × 71 columns</p>\n",
              "</div>\n",
              "      <button class=\"colab-df-convert\" onclick=\"convertToInteractive('df-a81ca3a4-eab3-47fb-853a-1ff877b9eeeb')\"\n",
              "              title=\"Convert this dataframe to an interactive table.\"\n",
              "              style=\"display:none;\">\n",
              "        \n",
              "  <svg xmlns=\"http://www.w3.org/2000/svg\" height=\"24px\"viewBox=\"0 0 24 24\"\n",
              "       width=\"24px\">\n",
              "    <path d=\"M0 0h24v24H0V0z\" fill=\"none\"/>\n",
              "    <path d=\"M18.56 5.44l.94 2.06.94-2.06 2.06-.94-2.06-.94-.94-2.06-.94 2.06-2.06.94zm-11 1L8.5 8.5l.94-2.06 2.06-.94-2.06-.94L8.5 2.5l-.94 2.06-2.06.94zm10 10l.94 2.06.94-2.06 2.06-.94-2.06-.94-.94-2.06-.94 2.06-2.06.94z\"/><path d=\"M17.41 7.96l-1.37-1.37c-.4-.4-.92-.59-1.43-.59-.52 0-1.04.2-1.43.59L10.3 9.45l-7.72 7.72c-.78.78-.78 2.05 0 2.83L4 21.41c.39.39.9.59 1.41.59.51 0 1.02-.2 1.41-.59l7.78-7.78 2.81-2.81c.8-.78.8-2.07 0-2.86zM5.41 20L4 18.59l7.72-7.72 1.47 1.35L5.41 20z\"/>\n",
              "  </svg>\n",
              "      </button>\n",
              "      \n",
              "  <style>\n",
              "    .colab-df-container {\n",
              "      display:flex;\n",
              "      flex-wrap:wrap;\n",
              "      gap: 12px;\n",
              "    }\n",
              "\n",
              "    .colab-df-convert {\n",
              "      background-color: #E8F0FE;\n",
              "      border: none;\n",
              "      border-radius: 50%;\n",
              "      cursor: pointer;\n",
              "      display: none;\n",
              "      fill: #1967D2;\n",
              "      height: 32px;\n",
              "      padding: 0 0 0 0;\n",
              "      width: 32px;\n",
              "    }\n",
              "\n",
              "    .colab-df-convert:hover {\n",
              "      background-color: #E2EBFA;\n",
              "      box-shadow: 0px 1px 2px rgba(60, 64, 67, 0.3), 0px 1px 3px 1px rgba(60, 64, 67, 0.15);\n",
              "      fill: #174EA6;\n",
              "    }\n",
              "\n",
              "    [theme=dark] .colab-df-convert {\n",
              "      background-color: #3B4455;\n",
              "      fill: #D2E3FC;\n",
              "    }\n",
              "\n",
              "    [theme=dark] .colab-df-convert:hover {\n",
              "      background-color: #434B5C;\n",
              "      box-shadow: 0px 1px 3px 1px rgba(0, 0, 0, 0.15);\n",
              "      filter: drop-shadow(0px 1px 2px rgba(0, 0, 0, 0.3));\n",
              "      fill: #FFFFFF;\n",
              "    }\n",
              "  </style>\n",
              "\n",
              "      <script>\n",
              "        const buttonEl =\n",
              "          document.querySelector('#df-a81ca3a4-eab3-47fb-853a-1ff877b9eeeb button.colab-df-convert');\n",
              "        buttonEl.style.display =\n",
              "          google.colab.kernel.accessAllowed ? 'block' : 'none';\n",
              "\n",
              "        async function convertToInteractive(key) {\n",
              "          const element = document.querySelector('#df-a81ca3a4-eab3-47fb-853a-1ff877b9eeeb');\n",
              "          const dataTable =\n",
              "            await google.colab.kernel.invokeFunction('convertToInteractive',\n",
              "                                                     [key], {});\n",
              "          if (!dataTable) return;\n",
              "\n",
              "          const docLinkHtml = 'Like what you see? Visit the ' +\n",
              "            '<a target=\"_blank\" href=https://colab.research.google.com/notebooks/data_table.ipynb>data table notebook</a>'\n",
              "            + ' to learn more about interactive tables.';\n",
              "          element.innerHTML = '';\n",
              "          dataTable['output_type'] = 'display_data';\n",
              "          await google.colab.output.renderOutput(dataTable, element);\n",
              "          const docLink = document.createElement('div');\n",
              "          docLink.innerHTML = docLinkHtml;\n",
              "          element.appendChild(docLink);\n",
              "        }\n",
              "      </script>\n",
              "    </div>\n",
              "  </div>\n",
              "  "
            ]
          },
          "metadata": {},
          "execution_count": 109
        }
      ]
    },
    {
      "cell_type": "code",
      "source": [
        "#In 2019, average plays per drive was 5.85\n",
        "data['TD/P'] = (data['Pass TDs'] + data['Rush TD']) / (data['Ply'])\n",
        "data['1stD/P'] = (data['1stD']) / (data['Ply'])\n",
        "data['TO/P'] = (data['TO'])/ (data['Ply'])\n",
        "data['Pen/P'] = (data['Pen Yds'])/ (data['Ply'])\n",
        "OffTest = data[['PF','Y/P','TO/P','1stD/P','TD/P','Pen/P']]\n",
        "OffTest.head()"
      ],
      "metadata": {
        "colab": {
          "base_uri": "https://localhost:8080/",
          "height": 206
        },
        "id": "XYeQdm-bAe6c",
        "outputId": "0717ba67-c5cf-45fc-c501-524e3beaa622"
      },
      "execution_count": null,
      "outputs": [
        {
          "output_type": "execute_result",
          "data": {
            "text/plain": [
              "    PF  Y/P      TO/P    1stD/P      TD/P     Pen/P\n",
              "0  449  5.6  0.013321  0.325933  0.044405  0.879218\n",
              "1  313  5.1  0.025845  0.304175  0.030815  0.748509\n",
              "2  387  5.4  0.021941  0.332489  0.032911  0.718987\n",
              "3  483  5.7  0.019248  0.348206  0.048994  0.857393\n",
              "4  304  4.6  0.026221  0.291139  0.028029  0.781193"
            ],
            "text/html": [
              "\n",
              "  <div id=\"df-659253f4-916a-4d1b-8ad8-45a0a745236c\">\n",
              "    <div class=\"colab-df-container\">\n",
              "      <div>\n",
              "<style scoped>\n",
              "    .dataframe tbody tr th:only-of-type {\n",
              "        vertical-align: middle;\n",
              "    }\n",
              "\n",
              "    .dataframe tbody tr th {\n",
              "        vertical-align: top;\n",
              "    }\n",
              "\n",
              "    .dataframe thead th {\n",
              "        text-align: right;\n",
              "    }\n",
              "</style>\n",
              "<table border=\"1\" class=\"dataframe\">\n",
              "  <thead>\n",
              "    <tr style=\"text-align: right;\">\n",
              "      <th></th>\n",
              "      <th>PF</th>\n",
              "      <th>Y/P</th>\n",
              "      <th>TO/P</th>\n",
              "      <th>1stD/P</th>\n",
              "      <th>TD/P</th>\n",
              "      <th>Pen/P</th>\n",
              "    </tr>\n",
              "  </thead>\n",
              "  <tbody>\n",
              "    <tr>\n",
              "      <th>0</th>\n",
              "      <td>449</td>\n",
              "      <td>5.6</td>\n",
              "      <td>0.013321</td>\n",
              "      <td>0.325933</td>\n",
              "      <td>0.044405</td>\n",
              "      <td>0.879218</td>\n",
              "    </tr>\n",
              "    <tr>\n",
              "      <th>1</th>\n",
              "      <td>313</td>\n",
              "      <td>5.1</td>\n",
              "      <td>0.025845</td>\n",
              "      <td>0.304175</td>\n",
              "      <td>0.030815</td>\n",
              "      <td>0.748509</td>\n",
              "    </tr>\n",
              "    <tr>\n",
              "      <th>2</th>\n",
              "      <td>387</td>\n",
              "      <td>5.4</td>\n",
              "      <td>0.021941</td>\n",
              "      <td>0.332489</td>\n",
              "      <td>0.032911</td>\n",
              "      <td>0.718987</td>\n",
              "    </tr>\n",
              "    <tr>\n",
              "      <th>3</th>\n",
              "      <td>483</td>\n",
              "      <td>5.7</td>\n",
              "      <td>0.019248</td>\n",
              "      <td>0.348206</td>\n",
              "      <td>0.048994</td>\n",
              "      <td>0.857393</td>\n",
              "    </tr>\n",
              "    <tr>\n",
              "      <th>4</th>\n",
              "      <td>304</td>\n",
              "      <td>4.6</td>\n",
              "      <td>0.026221</td>\n",
              "      <td>0.291139</td>\n",
              "      <td>0.028029</td>\n",
              "      <td>0.781193</td>\n",
              "    </tr>\n",
              "  </tbody>\n",
              "</table>\n",
              "</div>\n",
              "      <button class=\"colab-df-convert\" onclick=\"convertToInteractive('df-659253f4-916a-4d1b-8ad8-45a0a745236c')\"\n",
              "              title=\"Convert this dataframe to an interactive table.\"\n",
              "              style=\"display:none;\">\n",
              "        \n",
              "  <svg xmlns=\"http://www.w3.org/2000/svg\" height=\"24px\"viewBox=\"0 0 24 24\"\n",
              "       width=\"24px\">\n",
              "    <path d=\"M0 0h24v24H0V0z\" fill=\"none\"/>\n",
              "    <path d=\"M18.56 5.44l.94 2.06.94-2.06 2.06-.94-2.06-.94-.94-2.06-.94 2.06-2.06.94zm-11 1L8.5 8.5l.94-2.06 2.06-.94-2.06-.94L8.5 2.5l-.94 2.06-2.06.94zm10 10l.94 2.06.94-2.06 2.06-.94-2.06-.94-.94-2.06-.94 2.06-2.06.94z\"/><path d=\"M17.41 7.96l-1.37-1.37c-.4-.4-.92-.59-1.43-.59-.52 0-1.04.2-1.43.59L10.3 9.45l-7.72 7.72c-.78.78-.78 2.05 0 2.83L4 21.41c.39.39.9.59 1.41.59.51 0 1.02-.2 1.41-.59l7.78-7.78 2.81-2.81c.8-.78.8-2.07 0-2.86zM5.41 20L4 18.59l7.72-7.72 1.47 1.35L5.41 20z\"/>\n",
              "  </svg>\n",
              "      </button>\n",
              "      \n",
              "  <style>\n",
              "    .colab-df-container {\n",
              "      display:flex;\n",
              "      flex-wrap:wrap;\n",
              "      gap: 12px;\n",
              "    }\n",
              "\n",
              "    .colab-df-convert {\n",
              "      background-color: #E8F0FE;\n",
              "      border: none;\n",
              "      border-radius: 50%;\n",
              "      cursor: pointer;\n",
              "      display: none;\n",
              "      fill: #1967D2;\n",
              "      height: 32px;\n",
              "      padding: 0 0 0 0;\n",
              "      width: 32px;\n",
              "    }\n",
              "\n",
              "    .colab-df-convert:hover {\n",
              "      background-color: #E2EBFA;\n",
              "      box-shadow: 0px 1px 2px rgba(60, 64, 67, 0.3), 0px 1px 3px 1px rgba(60, 64, 67, 0.15);\n",
              "      fill: #174EA6;\n",
              "    }\n",
              "\n",
              "    [theme=dark] .colab-df-convert {\n",
              "      background-color: #3B4455;\n",
              "      fill: #D2E3FC;\n",
              "    }\n",
              "\n",
              "    [theme=dark] .colab-df-convert:hover {\n",
              "      background-color: #434B5C;\n",
              "      box-shadow: 0px 1px 3px 1px rgba(0, 0, 0, 0.15);\n",
              "      filter: drop-shadow(0px 1px 2px rgba(0, 0, 0, 0.3));\n",
              "      fill: #FFFFFF;\n",
              "    }\n",
              "  </style>\n",
              "\n",
              "      <script>\n",
              "        const buttonEl =\n",
              "          document.querySelector('#df-659253f4-916a-4d1b-8ad8-45a0a745236c button.colab-df-convert');\n",
              "        buttonEl.style.display =\n",
              "          google.colab.kernel.accessAllowed ? 'block' : 'none';\n",
              "\n",
              "        async function convertToInteractive(key) {\n",
              "          const element = document.querySelector('#df-659253f4-916a-4d1b-8ad8-45a0a745236c');\n",
              "          const dataTable =\n",
              "            await google.colab.kernel.invokeFunction('convertToInteractive',\n",
              "                                                     [key], {});\n",
              "          if (!dataTable) return;\n",
              "\n",
              "          const docLinkHtml = 'Like what you see? Visit the ' +\n",
              "            '<a target=\"_blank\" href=https://colab.research.google.com/notebooks/data_table.ipynb>data table notebook</a>'\n",
              "            + ' to learn more about interactive tables.';\n",
              "          element.innerHTML = '';\n",
              "          dataTable['output_type'] = 'display_data';\n",
              "          await google.colab.output.renderOutput(dataTable, element);\n",
              "          const docLink = document.createElement('div');\n",
              "          docLink.innerHTML = docLinkHtml;\n",
              "          element.appendChild(docLink);\n",
              "        }\n",
              "      </script>\n",
              "    </div>\n",
              "  </div>\n",
              "  "
            ]
          },
          "metadata": {},
          "execution_count": 110
        }
      ]
    },
    {
      "cell_type": "markdown",
      "source": [
        "The first part of this project is to relate the number of points a team has scored and allowed to its actual winning percentage. The inspiration for this was taken from Bill James' attempt to do the same with runs in baseball."
      ],
      "metadata": {
        "id": "is3RAysmUAzP"
      }
    },
    {
      "cell_type": "code",
      "source": [
        "#Functions to Run Pythagorean theorem to predict a Win Percentage based off of points for and against.\n",
        "def betterDiff(df1,df2):\n",
        "    sumOne = 0\n",
        "    sumTwo = 0\n",
        "    for i in df1:\n",
        "        sumOne += i\n",
        "    for j in df2:\n",
        "        sumTwo += j\n",
        "    if sumOne > sumTwo:\n",
        "        return True\n",
        "    else:\n",
        "        return False\n",
        "    \n",
        "def PythagoreanFootball(givenDF,expArray):\n",
        "    savedExp = 1\n",
        "    pointsAgainst = givenDF.loc[:,\"PA\"]\n",
        "    pointsFor = givenDF.loc[:,\"PF\"]\n",
        "    wlPer = givenDF.loc[:,\"W-L%\"]\n",
        "    #Start New Column\n",
        "    newAbsColumn = [100000,10000011,1000001,10000,10000100]\n",
        "    newPredictedColumn = [1,1,1,1,1,1,1,1]\n",
        "    #Fill with rest of data\n",
        "    for j in expArr:\n",
        "        tempPredictedColumn = newPredictedColumn\n",
        "        tempAbsColumn = newAbsColumn\n",
        "        #Start New Column\n",
        "        tempPer = theorem(pointsAgainst[0],pointsFor[0],j)\n",
        "        newPredictedColumn = [tempPer]\n",
        "        newAbsColumn = [abs(wlPer[0]-tempPer)]\n",
        "        #Get new Predicted WL% and the difference in actual WL%\n",
        "        for i in range(1,len(pointsAgainst)):\n",
        "            tempPer = theorem(pointsAgainst[i],pointsFor[i],j)\n",
        "            newPredictedColumn.append(tempPer)\n",
        "            newAbsColumn.append(abs(wlPer[i]-tempPer))\n",
        "            \n",
        "        #Check if the new differential is better. If not, keep last data\n",
        "        if not betterDiff(tempAbsColumn,newAbsColumn):\n",
        "            newAbsColumn = tempAbsColumn\n",
        "            newPredictedColumn = tempPredictedColumn\n",
        "        else:\n",
        "            savedExp = j\n",
        "    \n",
        "    savedExpArr = [savedExp]    \n",
        "    for i in range(1,len(givenDF)):\n",
        "        savedExpArr.append(savedExp)\n",
        "        \n",
        "    givenDF['Pred Win %'] = newPredictedColumn\n",
        "    givenDF['W-L Diff'] = newAbsColumn\n",
        "    givenDF['Exponent'] = savedExpArr\n",
        "    \n",
        "    return givenDF\n",
        "\n",
        "def theorem(pa,pf,ex):\n",
        "    r = pf/pa\n",
        "    out = (r**ex)/((r**ex) +1)\n",
        "    return out\n",
        "\n",
        "def runPythagoras(df):    \n",
        "    for i in df:\n",
        "        i = PythagoreanFootball(i,expArr)\n",
        "    return df\n"
      ],
      "metadata": {
        "id": "9RWIT7wHTXKW"
      },
      "execution_count": null,
      "outputs": []
    },
    {
      "cell_type": "markdown",
      "source": [
        "Using the functions above, I predicted the win-loss percentage of every team in the dataset. I output the average margin of error between my predicted result and the actualt win-loss percentage."
      ],
      "metadata": {
        "id": "v2HvlpRXU9hM"
      }
    },
    {
      "cell_type": "code",
      "source": [
        "expArr = [1]\n",
        "for i in range(1,300):\n",
        "    deci = i/100\n",
        "    expArr.append(expArr[0] + deci)\n",
        "  \n",
        "AllDF = data.reset_index(drop=True)\n",
        "AllDF = PythagoreanFootball(AllDF,expArr)\n",
        "AllDF['Cmp %'] = AllDF['Cmp']/AllDF['Passing Att']\n",
        "AllDF['PG Rate'] = (AllDF['Cmp'] + AllDF['Pass Yds'])/AllDF['Passing Att']\n",
        "AllDF['1D per Play'] = AllDF['Ply'] / AllDF['1stD']\n",
        "AllDF['TD per Play'] = AllDF['Ply'] / (AllDF['Pass TDs'] + AllDF['Rush TD'])\n",
        "\n",
        "AllDF.to_csv('CleanDF.csv')\n",
        "\n",
        "\n",
        "winPerSum = AllDF.loc[:,\"W-L Diff\"]\n",
        "winPerSum2 = 0\n",
        "for i in winPerSum:\n",
        "    winPerSum2 += i\n",
        "print(winPerSum2/608)"
      ],
      "metadata": {
        "colab": {
          "base_uri": "https://localhost:8080/"
        },
        "id": "fvhx00EWU3S8",
        "outputId": "f739f203-8cd1-45ad-d6c9-81f63dbe3f15"
      },
      "execution_count": null,
      "outputs": [
        {
          "output_type": "stream",
          "name": "stdout",
          "text": [
            "0.06404088337694104\n"
          ]
        }
      ]
    },
    {
      "cell_type": "markdown",
      "source": [
        "With an error of 6.4%, that roughly equates to 1 regular season NFL game. "
      ],
      "metadata": {
        "id": "BTtdAxvjVSYn"
      }
    },
    {
      "cell_type": "markdown",
      "source": [
        "In the previous section, I used two simple variables to predict win percentage. I hope to drill down further in the next section and see if I can break those two variables into more."
      ],
      "metadata": {
        "id": "knK4un8_U8KL"
      }
    },
    {
      "cell_type": "code",
      "source": [
        "#Offensive Correlations\n",
        "#ax1 = AllDF.plot.scatter(x='Ply',y='PF',c='DarkBlue')\n",
        "c1 = AllDF['Ply'].astype(float).corr(AllDF['PF'].astype(float))\n",
        "print('Correlation between Ply/PF:  ' + str(c1))\n",
        "ax2 = AllDF.plot.scatter(x='Y/P',y='PF',c='DarkBlue')\n",
        "c2 = AllDF['Y/P'].astype(float).corr(AllDF['PF'].astype(float))\n",
        "print('Correlation between Yards per Play/PF:  ' + str(c2))\n",
        "ax3 = AllDF.plot.scatter(x='1stD',y='PF',c='DarkBlue')\n",
        "c3 = AllDF['1stD'].astype(float).corr(AllDF['PF'].astype(float))\n",
        "print('Correlation between 1stD/PF:  ' + str(c3))\n",
        "c4 = AllDF['TO'].astype(float).corr(AllDF['PF'].astype(float))\n",
        "print('Correlation between TO/PF:  ' + str(c4))\n",
        "\n",
        "#Specific Offense\n",
        "c9 = AllDF['NY/A'].astype(float).corr(AllDF['PF'].astype(float))\n",
        "print('Correlation between NY/A:PF:  ' + str(c9))\n",
        "c10 = AllDF['Rush Y/A'].astype(float).corr(AllDF['PF'].astype(float))\n",
        "print('Correlation between Rush Y/A:PF:  ' + str(c10))\n",
        "c11 = AllDF['Cmp %'].astype(float).corr(AllDF['PF'].astype(float))\n",
        "print('Correlation between Cmp%:PF:  ' + str(c11))\n",
        "c12 = AllDF['PG Rate'].astype(float).corr(AllDF['PF'].astype(float))\n",
        "print('Correlation between PG Rate:PF:  ' + str(c12))\n",
        "ax4 = AllDF.plot.scatter(x='PG Rate',y='PF',c='DarkBlue')\n",
        "\n",
        "#Defensive Correlations\n",
        "c5 = AllDF['Ply'].astype(float).corr(AllDF['PA'].astype(float))\n",
        "print('Correlation between Offensive Plays/PA:  ' + str(c5))\n",
        "c6 = AllDF['Def Y/P'].astype(float).corr(AllDF['PA'].astype(float))\n",
        "print('Correlation between Defensive Yards per play/PA:  ' + str(c6))\n",
        "ax5 = AllDF.plot.scatter(x='Def Y/P',y='PA',c='DarkBlue')\n",
        "c7 = AllDF['Def TO'].astype(float).corr(AllDF['PA'].astype(float))\n",
        "print('Correlation between Def TO/PA:  ' + str(c7))"
      ],
      "metadata": {
        "colab": {
          "base_uri": "https://localhost:8080/",
          "height": 1273
        },
        "id": "qzSBVueh_6Me",
        "outputId": "f2c1102e-7c72-4f14-85b3-bbb789fdd1ec"
      },
      "execution_count": null,
      "outputs": [
        {
          "output_type": "stream",
          "name": "stdout",
          "text": [
            "0.06404088337694104\n",
            "Correlation between Ply/PF:  0.4229732700274509\n",
            "Correlation between Yards per Play/PF:  0.8039212037101358\n",
            "Correlation between 1stD/PF:  0.7937487424436493\n",
            "Correlation between TO/PF:  -0.4784420501567737\n",
            "Correlation between NY/A:PF:  0.8025799945258079\n",
            "Correlation between Rush Y/A:PF:  0.27748255205377326\n",
            "Correlation between Cmp%:PF:  0.6005077622536776\n",
            "Correlation between PG Rate:PF:  0.7880904798788151\n",
            "Correlation between Offensive Plays/PA:  0.0007114226071722421\n",
            "Correlation between Defensive Yards per play/PA:  0.7253355401670095\n",
            "Correlation between Def TO/PA:  -0.44538597593366014\n"
          ]
        },
        {
          "output_type": "display_data",
          "data": {
            "text/plain": [
              "<Figure size 432x288 with 1 Axes>"
            ],
            "image/png": "[encoded data removed]"
          },
          "metadata": {
            "needs_background": "light"
          }
        },
        {
          "output_type": "display_data",
          "data": {
            "text/plain": [
              "<Figure size 432x288 with 1 Axes>"
            ],
            "image/png": "[encoded data removed]"
          },
          "metadata": {
            "needs_background": "light"
          }
        },
        {
          "output_type": "display_data",
          "data": {
            "text/plain": [
              "<Figure size 432x288 with 1 Axes>"
            ],
            "image/png": "[encoded data removed]"
          },
          "metadata": {
            "needs_background": "light"
          }
        },
        {
          "output_type": "display_data",
          "data": {
            "text/plain": [
              "<Figure size 432x288 with 1 Axes>"
            ],
            "image/png": "[encoded data removed]"
          },
          "metadata": {
            "needs_background": "light"
          }
        }
      ]
    },
    {
      "cell_type": "code",
      "source": [
        "from sklearn.model_selection import train_test_split\n",
        "from sklearn.linear_model import LinearRegression\n",
        "from sklearn.metrics import mean_squared_error, mean_absolute_error\n",
        "from sklearn import preprocessing"
      ],
      "metadata": {
        "id": "i79KLwvGIaO7"
      },
      "execution_count": null,
      "outputs": []
    },
    {
      "cell_type": "code",
      "source": [
        "print(OffTest.head())\n",
        "print(OffTest.columns)"
      ],
      "metadata": {
        "colab": {
          "base_uri": "https://localhost:8080/"
        },
        "id": "FEHw-En9I1Di",
        "outputId": "798c200d-9a76-4ccc-c519-712f2acaa3d9"
      },
      "execution_count": null,
      "outputs": [
        {
          "output_type": "stream",
          "name": "stdout",
          "text": [
            "    PF  Y/P      TO/P    1stD/P      TD/P     Pen/P\n",
            "0  449  5.6  0.013321  0.325933  0.044405  0.879218\n",
            "1  313  5.1  0.025845  0.304175  0.030815  0.748509\n",
            "2  387  5.4  0.021941  0.332489  0.032911  0.718987\n",
            "3  483  5.7  0.019248  0.348206  0.048994  0.857393\n",
            "4  304  4.6  0.026221  0.291139  0.028029  0.781193\n",
            "Index(['PF', 'Y/P', 'TO/P', '1stD/P', 'TD/P', 'Pen/P'], dtype='object')\n"
          ]
        }
      ]
    },
    {
      "cell_type": "code",
      "source": [
        "c2 = data['Y/P'].astype(float).corr(data['PF'].astype(float))\n",
        "print(c2)"
      ],
      "metadata": {
        "colab": {
          "base_uri": "https://localhost:8080/"
        },
        "id": "-ZsiY495a-T3",
        "outputId": "f7d0787a-792e-4236-bb2e-1bf2fc18d0ff"
      },
      "execution_count": null,
      "outputs": [
        {
          "output_type": "stream",
          "name": "stdout",
          "text": [
            "0.8039212037101358\n"
          ]
        }
      ]
    },
    {
      "cell_type": "code",
      "source": [
        "c2 = data['TD/P'].astype(float).corr(data['PF'].astype(float))\n",
        "print(c2)"
      ],
      "metadata": {
        "colab": {
          "base_uri": "https://localhost:8080/"
        },
        "id": "utHyqKORDrdu",
        "outputId": "5f84b6e4-d17c-45c1-8cbe-17875d4e2ca5"
      },
      "execution_count": null,
      "outputs": [
        {
          "output_type": "stream",
          "name": "stdout",
          "text": [
            "0.9262954842349076\n"
          ]
        }
      ]
    },
    {
      "cell_type": "code",
      "source": [
        "sns.scatterplot(x='PF',y='TD/P', data=OffTest)"
      ],
      "metadata": {
        "colab": {
          "base_uri": "https://localhost:8080/",
          "height": 296
        },
        "id": "NIPQFs87Xi--",
        "outputId": "c43126d0-cee6-4b11-9acd-d28757a9b95d"
      },
      "execution_count": null,
      "outputs": [
        {
          "output_type": "execute_result",
          "data": {
            "text/plain": [
              "<matplotlib.axes._subplots.AxesSubplot at 0x7fc3eabfda00>"
            ]
          },
          "metadata": {},
          "execution_count": 18
        },
        {
          "output_type": "display_data",
          "data": {
            "text/plain": [
              "<Figure size 432x288 with 1 Axes>"
            ],
            "image/png": "[encoded data removed]"
          },
          "metadata": {
            "needs_background": "light"
          }
        }
      ]
    },
    {
      "cell_type": "code",
      "source": [
        "X = OffTest.drop('PF',axis=1)\n",
        "Y = OffTest['PF']"
      ],
      "metadata": {
        "id": "oKr3tXnpJZpT"
      },
      "execution_count": null,
      "outputs": []
    },
    {
      "cell_type": "markdown",
      "source": [
        "After analyzing the correlation between variables in the data set and points for/points against, I was able to find which had significant correlation. Now I hope to put those variables into a linear regression model, and come up with models to predict points for/points against."
      ],
      "metadata": {
        "id": "zJFWD3zrWk_a"
      }
    },
    {
      "cell_type": "code",
      "source": [
        "X_train, X_test, y_train, y_test = train_test_split(\n",
        "    X, Y, test_size=0.25, random_state=101)"
      ],
      "metadata": {
        "id": "zBowDLosJxBI"
      },
      "execution_count": null,
      "outputs": []
    },
    {
      "cell_type": "code",
      "source": [
        "model = LinearRegression()"
      ],
      "metadata": {
        "id": "oKdbCX6iJ2gr"
      },
      "execution_count": null,
      "outputs": []
    },
    {
      "cell_type": "code",
      "source": [
        "model.fit(X_train,y_train)"
      ],
      "metadata": {
        "colab": {
          "base_uri": "https://localhost:8080/"
        },
        "id": "MhRuKPOeJ3-p",
        "outputId": "7616f896-6dd7-46fa-8c8e-70af97538c00"
      },
      "execution_count": null,
      "outputs": [
        {
          "output_type": "execute_result",
          "data": {
            "text/plain": [
              "LinearRegression()"
            ]
          },
          "metadata": {},
          "execution_count": 22
        }
      ]
    },
    {
      "cell_type": "code",
      "source": [
        "predictions = model.predict(X_test)\n",
        "predictions"
      ],
      "metadata": {
        "colab": {
          "base_uri": "https://localhost:8080/"
        },
        "id": "aPW407ZUJ6EB",
        "outputId": "a431871a-ef99-46c6-f971-69590ff6e381"
      },
      "execution_count": null,
      "outputs": [
        {
          "output_type": "execute_result",
          "data": {
            "text/plain": [
              "array([398.54641448, 311.13899047, 256.9882743 , 426.0399318 ,\n",
              "       482.33667781, 421.05047423, 401.07007492, 251.50102874,\n",
              "       270.73949903, 367.32819649, 264.13218597, 379.53311356,\n",
              "       263.76124225, 353.00621901, 294.53236119, 386.69133246,\n",
              "       381.6173531 , 299.61437792, 462.07311632, 392.21018016,\n",
              "       379.85928046, 389.51798892, 276.58663896, 290.46929224,\n",
              "       381.26653332, 310.09568844, 531.22286343, 447.87209024,\n",
              "       331.09602703, 360.59537358, 442.9802999 , 413.33335222,\n",
              "       374.16401852, 353.00697958, 342.15734913, 330.55409847,\n",
              "       428.7985481 , 386.67501023, 229.65834982, 441.77910985,\n",
              "       432.63448301, 329.48142537, 286.17340032, 267.41766499,\n",
              "       382.79688164, 407.01865123, 430.2076378 , 447.88426098,\n",
              "       372.24944236, 299.43106043, 318.67833057, 346.17415906,\n",
              "       433.73393808, 274.01015874, 443.07838638, 521.23240121,\n",
              "       403.74377834, 346.95501989, 455.75260732, 313.82505975,\n",
              "       325.6808441 , 381.74741108, 258.66073801, 308.78344819,\n",
              "       325.66253994, 301.07438958, 356.68892358, 429.49323038,\n",
              "       451.08426867, 345.32873507, 392.32577185, 337.74086765,\n",
              "       332.98926816, 385.64255682, 334.90694251, 253.8108785 ,\n",
              "       350.43069895, 399.52680383, 309.2610617 , 377.2036864 ,\n",
              "       384.31320717, 321.8858411 , 348.77449915, 319.71865261,\n",
              "       366.76132193, 465.9181257 , 219.04882572, 282.04348967,\n",
              "       322.55024736, 431.21602356, 377.89668741, 229.02210135,\n",
              "       438.53652762, 211.85149128, 360.00760871, 392.44689081,\n",
              "       304.42575952, 417.64618096, 293.73584992, 421.3062665 ,\n",
              "       296.87211071, 292.9403556 , 344.65700695, 328.50046272,\n",
              "       340.01880693, 380.86835349, 403.85117203, 288.20402453,\n",
              "       382.92620872, 404.96907319, 329.13500747, 346.62660608,\n",
              "       393.29268707, 341.4450941 , 281.27479844, 387.35939296,\n",
              "       279.32404319, 520.662741  , 332.91382533, 383.29241767,\n",
              "       318.20877167, 335.54049956, 436.68586608, 448.54904878,\n",
              "       360.98216514, 291.41737371, 302.84007798, 437.62535203,\n",
              "       321.64082864, 452.96720486, 351.02452639, 334.22548895,\n",
              "       402.4199618 , 214.1050819 , 323.41446955, 268.74338727,\n",
              "       329.99294688, 322.83420664, 359.7289982 , 426.24476158,\n",
              "       314.64425292, 321.15353209, 376.15879726, 391.73636687,\n",
              "       380.80882166, 389.7504606 , 399.90331485, 356.33194508,\n",
              "       342.39420188, 408.02808446, 347.50056189, 305.63166278])"
            ]
          },
          "metadata": {},
          "execution_count": 23
        }
      ]
    },
    {
      "cell_type": "code",
      "source": [
        "from sklearn.metrics import r2_score\n",
        "from sklearn.metrics import mean_squared_error\n",
        "score=r2_score(y_test,predictions)\n",
        "print('r2 score =',score)\n",
        "print('mean_sqrd_error is=',mean_squared_error(y_test,predictions))\n",
        "print('root_mean_squared error of is==',np.sqrt(mean_squared_error(y_test,predictions)))"
      ],
      "metadata": {
        "colab": {
          "base_uri": "https://localhost:8080/"
        },
        "id": "pOzui7nRL23x",
        "outputId": "1ad3f6a1-9982-486d-e2a4-a21cc4d19fff"
      },
      "execution_count": null,
      "outputs": [
        {
          "output_type": "stream",
          "name": "stdout",
          "text": [
            "r2 score = 0.8332709688666908\n",
            "mean_sqrd_error is= 698.1114264629057\n",
            "root_mean_squared error of is== 26.421798320002853\n"
          ]
        }
      ]
    },
    {
      "cell_type": "code",
      "source": [
        "import statsmodels.api as sm\n",
        "from scipy import stats\n",
        "X2 = sm.add_constant(X)\n",
        "est = sm.OLS(Y, X2)\n",
        "est2 = est.fit()\n",
        "print(est2.summary())"
      ],
      "metadata": {
        "colab": {
          "base_uri": "https://localhost:8080/"
        },
        "id": "fCvDoiiAXytn",
        "outputId": "8cabce54-21bd-4750-d027-bb4e07cee556"
      },
      "execution_count": null,
      "outputs": [
        {
          "output_type": "stream",
          "name": "stdout",
          "text": [
            "                            OLS Regression Results                            \n",
            "==============================================================================\n",
            "Dep. Variable:                     PF   R-squared:                       0.871\n",
            "Model:                            OLS   Adj. R-squared:                  0.870\n",
            "Method:                 Least Squares   F-statistic:                     810.1\n",
            "Date:                Fri, 27 Jan 2023   Prob (F-statistic):          1.53e-264\n",
            "Time:                        16:28:45   Log-Likelihood:                -2846.0\n",
            "No. Observations:                 608   AIC:                             5704.\n",
            "Df Residuals:                     602   BIC:                             5730.\n",
            "Df Model:                           5                                         \n",
            "Covariance Type:            nonrobust                                         \n",
            "==============================================================================\n",
            "                 coef    std err          t      P>|t|      [0.025      0.975]\n",
            "------------------------------------------------------------------------------\n",
            "const         71.3632     19.669      3.628      0.000      32.735     109.992\n",
            "Y/P            6.8467      4.727      1.449      0.148      -2.436      16.129\n",
            "TO/P        -874.9110    182.498     -4.794      0.000   -1233.322    -516.500\n",
            "1stD/P       203.4403     80.532      2.526      0.012      45.283     361.598\n",
            "TD/P        6223.4284    237.213     26.236      0.000    5757.562    6689.294\n",
            "Pen/P        -19.7356      7.422     -2.659      0.008     -34.312      -5.159\n",
            "==============================================================================\n",
            "Omnibus:                       25.160   Durbin-Watson:                   1.968\n",
            "Prob(Omnibus):                  0.000   Jarque-Bera (JB):               28.666\n",
            "Skew:                           0.449   Prob(JB):                     5.96e-07\n",
            "Kurtosis:                       3.571   Cond. No.                     1.27e+03\n",
            "==============================================================================\n",
            "\n",
            "Notes:\n",
            "[1] Standard Errors assume that the covariance matrix of the errors is correctly specified.\n",
            "[2] The condition number is large, 1.27e+03. This might indicate that there are\n",
            "strong multicollinearity or other numerical problems.\n"
          ]
        },
        {
          "output_type": "stream",
          "name": "stderr",
          "text": [
            "/usr/local/lib/python3.8/dist-packages/statsmodels/tsa/tsatools.py:142: FutureWarning: In a future version of pandas all arguments of concat except for the argument 'objs' will be keyword-only\n",
            "  x = pd.concat(x[::order], 1)\n"
          ]
        }
      ]
    },
    {
      "cell_type": "markdown",
      "source": [
        "This regression model shows that the P-Value for Y/P is high which means that in this group of variables it is not strong enough to suggest that an effect exists."
      ],
      "metadata": {
        "id": "4KhrIX_mXcYr"
      }
    },
    {
      "cell_type": "code",
      "source": [
        "OffTest = data[['PF','TO/P','1stD/P','TD/P','Pen/P']]\n",
        "OffTest.head()\n",
        "X = OffTest.drop('PF',axis=1)\n",
        "Y = OffTest['PF']\n",
        "X_train, X_test, y_train, y_test = train_test_split(\n",
        "    X, Y, test_size=0.25, random_state=101)\n",
        "model = LinearRegression()\n",
        "model.fit(X_train,y_train)\n",
        "predictions = model.predict(X_test)\n",
        "from sklearn.metrics import r2_score\n",
        "from sklearn.metrics import mean_squared_error\n",
        "score=r2_score(y_test,predictions)\n",
        "print('r2 score =',score)\n",
        "print('mean_sqrd_error is=',mean_squared_error(y_test,predictions))\n",
        "print('root_mean_squared error of is==',np.sqrt(mean_squared_error(y_test,predictions)))"
      ],
      "metadata": {
        "colab": {
          "base_uri": "https://localhost:8080/"
        },
        "id": "PdUGdHaucgq-",
        "outputId": "30c728fb-0d34-4e3b-e69b-e4c6e21d2e00"
      },
      "execution_count": null,
      "outputs": [
        {
          "output_type": "stream",
          "name": "stdout",
          "text": [
            "r2 score = 0.8323074292032835\n",
            "mean_sqrd_error is= 702.1458651224638\n",
            "root_mean_squared error of is== 26.498035118145342\n"
          ]
        }
      ]
    },
    {
      "cell_type": "code",
      "source": [
        "X2 = sm.add_constant(X)\n",
        "est = sm.OLS(Y, X2)\n",
        "est2 = est.fit()\n",
        "print(est2.summary())"
      ],
      "metadata": {
        "colab": {
          "base_uri": "https://localhost:8080/"
        },
        "id": "4n9CM7m4dU85",
        "outputId": "f01fa809-0f16-47a5-c3d5-913d7b048544"
      },
      "execution_count": null,
      "outputs": [
        {
          "output_type": "stream",
          "name": "stdout",
          "text": [
            "                            OLS Regression Results                            \n",
            "==============================================================================\n",
            "Dep. Variable:                     PF   R-squared:                       0.870\n",
            "Model:                            OLS   Adj. R-squared:                  0.869\n",
            "Method:                 Least Squares   F-statistic:                     1010.\n",
            "Date:                Fri, 27 Jan 2023   Prob (F-statistic):          1.29e-265\n",
            "Time:                        16:30:18   Log-Likelihood:                -2847.0\n",
            "No. Observations:                 608   AIC:                             5704.\n",
            "Df Residuals:                     603   BIC:                             5726.\n",
            "Df Model:                           4                                         \n",
            "Covariance Type:            nonrobust                                         \n",
            "==============================================================================\n",
            "                 coef    std err          t      P>|t|      [0.025      0.975]\n",
            "------------------------------------------------------------------------------\n",
            "const         79.2837     18.911      4.192      0.000      42.144     116.423\n",
            "TO/P        -862.1338    182.451     -4.725      0.000   -1220.450    -503.817\n",
            "1stD/P       271.4796     65.475      4.146      0.000     142.894     400.066\n",
            "TD/P        6372.1479    214.039     29.771      0.000    5951.796    6792.500\n",
            "Pen/P        -17.2721      7.231     -2.389      0.017     -31.473      -3.071\n",
            "==============================================================================\n",
            "Omnibus:                       23.214   Durbin-Watson:                   1.952\n",
            "Prob(Omnibus):                  0.000   Jarque-Bera (JB):               25.902\n",
            "Skew:                           0.434   Prob(JB):                     2.37e-06\n",
            "Kurtosis:                       3.518   Cond. No.                         287.\n",
            "==============================================================================\n",
            "\n",
            "Notes:\n",
            "[1] Standard Errors assume that the covariance matrix of the errors is correctly specified.\n"
          ]
        },
        {
          "output_type": "stream",
          "name": "stderr",
          "text": [
            "/usr/local/lib/python3.8/dist-packages/statsmodels/tsa/tsatools.py:142: FutureWarning: In a future version of pandas all arguments of concat except for the argument 'objs' will be keyword-only\n",
            "  x = pd.concat(x[::order], 1)\n"
          ]
        }
      ]
    },
    {
      "cell_type": "markdown",
      "source": [
        "We can confirm that Y/P did not have a significant effect because the R squared value hardly changes when it is taken out of the model."
      ],
      "metadata": {
        "id": "TZTa7EZbYKbz"
      }
    },
    {
      "cell_type": "code",
      "source": [
        "OffensiveCoef = model.coef_\n",
        "OffensiveInt = model.intercept_"
      ],
      "metadata": {
        "id": "62I3lzuR85w3"
      },
      "execution_count": null,
      "outputs": []
    },
    {
      "cell_type": "code",
      "source": [
        "data['Def TD/P'] = (data['Def Pass TDs'] + data['Def Rush TD']) / (data['Def Ply'])\n",
        "data['Def 1stD/P'] = (data['Def 1stD']) / (data['Def Ply'])\n",
        "data['Def TO/P'] = (data['Def TO'])/ (data['Def Ply'])\n",
        "data['Def Pen/P'] = (data['Def Pen']*data['Def Pen Yds'])/ (data['Def Ply'])\n",
        "DefTest = data[['PA','Def Y/P','Def TO/P','Def 1stD/P','Def TD/P','Def Pen/P']]\n",
        "DefTest.head()\n",
        "X = DefTest.drop('PA',axis=1)\n",
        "Y = DefTest['PA']\n",
        "X_train, X_test, y_train, y_test = train_test_split(\n",
        "    X, Y, test_size=0.25, random_state=101)\n",
        "model2 = LinearRegression()\n",
        "model2.fit(X_train,y_train)\n",
        "predictions = model2.predict(X_test)\n",
        "from sklearn.metrics import r2_score\n",
        "from sklearn.metrics import mean_squared_error\n",
        "score=r2_score(y_test,predictions)\n",
        "print('r2 score =',score)\n",
        "print('mean_sqrd_error is=',mean_squared_error(y_test,predictions))\n",
        "print('root_mean_squared error of is==',np.sqrt(mean_squared_error(y_test,predictions)))"
      ],
      "metadata": {
        "colab": {
          "base_uri": "https://localhost:8080/"
        },
        "id": "l51BCyq0f2i9",
        "outputId": "88816586-df79-464c-a72a-9506f502e13f"
      },
      "execution_count": null,
      "outputs": [
        {
          "output_type": "stream",
          "name": "stdout",
          "text": [
            "r2 score = 0.812483847427378\n",
            "mean_sqrd_error is= 660.9080735794201\n",
            "root_mean_squared error of is== 25.70813244052201\n"
          ]
        }
      ]
    },
    {
      "cell_type": "code",
      "source": [
        "X2 = sm.add_constant(X)\n",
        "est = sm.OLS(Y, X2)\n",
        "est2 = est.fit()\n",
        "print(est2.summary())"
      ],
      "metadata": {
        "colab": {
          "base_uri": "https://localhost:8080/"
        },
        "id": "S3GuwrTtgcm0",
        "outputId": "0127c204-6644-449c-d11e-aec8ef49a63e"
      },
      "execution_count": null,
      "outputs": [
        {
          "output_type": "stream",
          "name": "stdout",
          "text": [
            "                            OLS Regression Results                            \n",
            "==============================================================================\n",
            "Dep. Variable:                     PA   R-squared:                       0.821\n",
            "Model:                            OLS   Adj. R-squared:                  0.819\n",
            "Method:                 Least Squares   F-statistic:                     551.3\n",
            "Date:                Fri, 27 Jan 2023   Prob (F-statistic):          5.69e-222\n",
            "Time:                        16:30:24   Log-Likelihood:                -2817.1\n",
            "No. Observations:                 608   AIC:                             5646.\n",
            "Df Residuals:                     602   BIC:                             5673.\n",
            "Df Model:                           5                                         \n",
            "Covariance Type:            nonrobust                                         \n",
            "==============================================================================\n",
            "                 coef    std err          t      P>|t|      [0.025      0.975]\n",
            "------------------------------------------------------------------------------\n",
            "const         93.4570     18.917      4.940      0.000      56.305     130.609\n",
            "Def Y/P       16.7530      4.498      3.725      0.000       7.919      25.587\n",
            "Def TO/P   -1342.3390    173.158     -7.752      0.000   -1682.407   -1002.271\n",
            "Def 1stD/P   -18.9766     81.269     -0.234      0.815    -178.583     140.629\n",
            "Def TD/P    6132.4900    236.912     25.885      0.000    5667.216    6597.764\n",
            "Def Pen/P     -0.1032      0.042     -2.468      0.014      -0.185      -0.021\n",
            "==============================================================================\n",
            "Omnibus:                        3.613   Durbin-Watson:                   1.940\n",
            "Prob(Omnibus):                  0.164   Jarque-Bera (JB):                3.693\n",
            "Skew:                           0.181   Prob(JB):                        0.158\n",
            "Kurtosis:                       2.881   Cond. No.                     2.18e+04\n",
            "==============================================================================\n",
            "\n",
            "Notes:\n",
            "[1] Standard Errors assume that the covariance matrix of the errors is correctly specified.\n",
            "[2] The condition number is large, 2.18e+04. This might indicate that there are\n",
            "strong multicollinearity or other numerical problems.\n"
          ]
        },
        {
          "output_type": "stream",
          "name": "stderr",
          "text": [
            "/usr/local/lib/python3.8/dist-packages/statsmodels/tsa/tsatools.py:142: FutureWarning: In a future version of pandas all arguments of concat except for the argument 'objs' will be keyword-only\n",
            "  x = pd.concat(x[::order], 1)\n"
          ]
        }
      ]
    },
    {
      "cell_type": "code",
      "source": [
        "sns.scatterplot(x='PA',y='Def 1stD/P', data=DefTest)"
      ],
      "metadata": {
        "colab": {
          "base_uri": "https://localhost:8080/",
          "height": 296
        },
        "id": "8OMEBZ72g1-F",
        "outputId": "e3f35d54-49f1-45cc-a02b-c00ac05a989f"
      },
      "execution_count": null,
      "outputs": [
        {
          "output_type": "execute_result",
          "data": {
            "text/plain": [
              "<matplotlib.axes._subplots.AxesSubplot at 0x7fc3eac39970>"
            ]
          },
          "metadata": {},
          "execution_count": 31
        },
        {
          "output_type": "display_data",
          "data": {
            "text/plain": [
              "<Figure size 432x288 with 1 Axes>"
            ],
            "image/png": "[encoded data removed]"
          },
          "metadata": {
            "needs_background": "light"
          }
        }
      ]
    },
    {
      "cell_type": "code",
      "source": [
        "DefTest = data[['PA','Def Y/P','Def TO/P','Def TD/P','Def Pen/P']]\n",
        "DefTest.head()\n",
        "X = DefTest.drop('PA',axis=1)\n",
        "Y = DefTest['PA']\n",
        "X_train, X_test, y_train, y_test = train_test_split(\n",
        "    X, Y, test_size=0.25, random_state=101)\n",
        "model2 = LinearRegression()\n",
        "model2.fit(X_train,y_train)\n",
        "predictions = model2.predict(X_test)\n",
        "from sklearn.metrics import r2_score\n",
        "from sklearn.metrics import mean_squared_error\n",
        "score=r2_score(y_test,predictions)\n",
        "print('r2 score =',score)\n",
        "print('mean_sqrd_error is=',mean_squared_error(y_test,predictions))\n",
        "print('root_mean_squared error of is==',np.sqrt(mean_squared_error(y_test,predictions)))"
      ],
      "metadata": {
        "id": "8z1in4lshBck"
      },
      "execution_count": null,
      "outputs": []
    },
    {
      "cell_type": "code",
      "source": [
        "X2 = sm.add_constant(X)\n",
        "est = sm.OLS(Y, X2)\n",
        "est2 = est.fit()\n",
        "print(est2.summary())"
      ],
      "metadata": {
        "colab": {
          "base_uri": "https://localhost:8080/"
        },
        "id": "4-IdyUQxhG5-",
        "outputId": "844df9b0-1fba-4dac-d774-97c84f7f2412"
      },
      "execution_count": null,
      "outputs": [
        {
          "output_type": "stream",
          "name": "stdout",
          "text": [
            "                            OLS Regression Results                            \n",
            "==============================================================================\n",
            "Dep. Variable:                     PA   R-squared:                       0.821\n",
            "Model:                            OLS   Adj. R-squared:                  0.820\n",
            "Method:                 Least Squares   F-statistic:                     690.2\n",
            "Date:                Fri, 27 Jan 2023   Prob (F-statistic):          2.09e-223\n",
            "Time:                        16:30:32   Log-Likelihood:                -2817.1\n",
            "No. Observations:                 608   AIC:                             5644.\n",
            "Df Residuals:                     603   BIC:                             5666.\n",
            "Df Model:                           4                                         \n",
            "Covariance Type:            nonrobust                                         \n",
            "==============================================================================\n",
            "                 coef    std err          t      P>|t|      [0.025      0.975]\n",
            "------------------------------------------------------------------------------\n",
            "const         91.2861     16.462      5.545      0.000      58.956     123.616\n",
            "Def Y/P       16.1368      3.640      4.434      0.000       8.989      23.285\n",
            "Def TO/P   -1336.3083    171.087     -7.811      0.000   -1672.307   -1000.310\n",
            "Def TD/P    6115.6261    225.459     27.125      0.000    5672.847    6558.405\n",
            "Def Pen/P     -0.1021      0.042     -2.459      0.014      -0.184      -0.021\n",
            "==============================================================================\n",
            "Omnibus:                        3.611   Durbin-Watson:                   1.937\n",
            "Prob(Omnibus):                  0.164   Jarque-Bera (JB):                3.692\n",
            "Skew:                           0.180   Prob(JB):                        0.158\n",
            "Kurtosis:                       2.872   Cond. No.                     2.10e+04\n",
            "==============================================================================\n",
            "\n",
            "Notes:\n",
            "[1] Standard Errors assume that the covariance matrix of the errors is correctly specified.\n",
            "[2] The condition number is large, 2.1e+04. This might indicate that there are\n",
            "strong multicollinearity or other numerical problems.\n"
          ]
        },
        {
          "output_type": "stream",
          "name": "stderr",
          "text": [
            "/usr/local/lib/python3.8/dist-packages/statsmodels/tsa/tsatools.py:142: FutureWarning: In a future version of pandas all arguments of concat except for the argument 'objs' will be keyword-only\n",
            "  x = pd.concat(x[::order], 1)\n"
          ]
        }
      ]
    },
    {
      "cell_type": "code",
      "source": [
        "DefensiveCoef = model2.coef_\n",
        "DefensiveInt = model2.intercept_"
      ],
      "metadata": {
        "id": "OKTdC0NH7S-z"
      },
      "execution_count": null,
      "outputs": []
    },
    {
      "cell_type": "code",
      "source": [
        "print(DefensiveCoef)"
      ],
      "metadata": {
        "colab": {
          "base_uri": "https://localhost:8080/"
        },
        "id": "U6Y5UTfT8BUO",
        "outputId": "a30797e3-5b58-44dc-815d-487701aa6556"
      },
      "execution_count": null,
      "outputs": [
        {
          "output_type": "stream",
          "name": "stdout",
          "text": [
            "[ 1.84767280e+01 -1.41016449e+03  5.91886829e+03 -9.70015526e-02]\n"
          ]
        }
      ]
    },
    {
      "cell_type": "code",
      "source": [
        "DefensiveInt"
      ],
      "metadata": {
        "colab": {
          "base_uri": "https://localhost:8080/"
        },
        "id": "J2lFfHISBeoM",
        "outputId": "82e49394-40c1-442e-a3aa-4d542d658e77"
      },
      "execution_count": null,
      "outputs": [
        {
          "output_type": "execute_result",
          "data": {
            "text/plain": [
              "86.99586220484514"
            ]
          },
          "metadata": {},
          "execution_count": 36
        }
      ]
    },
    {
      "cell_type": "code",
      "source": [
        "DefTest.head()"
      ],
      "metadata": {
        "colab": {
          "base_uri": "https://localhost:8080/",
          "height": 206
        },
        "id": "Lruq21vP8s5U",
        "outputId": "10b653c7-acda-404a-b972-2d42646d6bf0"
      },
      "execution_count": null,
      "outputs": [
        {
          "output_type": "execute_result",
          "data": {
            "text/plain": [
              "    PA  Def Y/P  Def TO/P  Def TD/P   Def Pen/P\n",
              "0  366      5.4  0.026265  0.038911   87.159533\n",
              "1  459      5.6  0.017953  0.044883  101.263914\n",
              "2  392      6.0  0.014521  0.042594   83.674734\n",
              "3  289      4.6  0.029586  0.030572   84.899408\n",
              "4  404      5.1  0.015564  0.040856   94.132296"
            ],
            "text/html": [
              "\n",
              "  <div id=\"df-e6720059-e2ee-4b3d-baeb-95c18f039077\">\n",
              "    <div class=\"colab-df-container\">\n",
              "      <div>\n",
              "<style scoped>\n",
              "    .dataframe tbody tr th:only-of-type {\n",
              "        vertical-align: middle;\n",
              "    }\n",
              "\n",
              "    .dataframe tbody tr th {\n",
              "        vertical-align: top;\n",
              "    }\n",
              "\n",
              "    .dataframe thead th {\n",
              "        text-align: right;\n",
              "    }\n",
              "</style>\n",
              "<table border=\"1\" class=\"dataframe\">\n",
              "  <thead>\n",
              "    <tr style=\"text-align: right;\">\n",
              "      <th></th>\n",
              "      <th>PA</th>\n",
              "      <th>Def Y/P</th>\n",
              "      <th>Def TO/P</th>\n",
              "      <th>Def TD/P</th>\n",
              "      <th>Def Pen/P</th>\n",
              "    </tr>\n",
              "  </thead>\n",
              "  <tbody>\n",
              "    <tr>\n",
              "      <th>0</th>\n",
              "      <td>366</td>\n",
              "      <td>5.4</td>\n",
              "      <td>0.026265</td>\n",
              "      <td>0.038911</td>\n",
              "      <td>87.159533</td>\n",
              "    </tr>\n",
              "    <tr>\n",
              "      <th>1</th>\n",
              "      <td>459</td>\n",
              "      <td>5.6</td>\n",
              "      <td>0.017953</td>\n",
              "      <td>0.044883</td>\n",
              "      <td>101.263914</td>\n",
              "    </tr>\n",
              "    <tr>\n",
              "      <th>2</th>\n",
              "      <td>392</td>\n",
              "      <td>6.0</td>\n",
              "      <td>0.014521</td>\n",
              "      <td>0.042594</td>\n",
              "      <td>83.674734</td>\n",
              "    </tr>\n",
              "    <tr>\n",
              "      <th>3</th>\n",
              "      <td>289</td>\n",
              "      <td>4.6</td>\n",
              "      <td>0.029586</td>\n",
              "      <td>0.030572</td>\n",
              "      <td>84.899408</td>\n",
              "    </tr>\n",
              "    <tr>\n",
              "      <th>4</th>\n",
              "      <td>404</td>\n",
              "      <td>5.1</td>\n",
              "      <td>0.015564</td>\n",
              "      <td>0.040856</td>\n",
              "      <td>94.132296</td>\n",
              "    </tr>\n",
              "  </tbody>\n",
              "</table>\n",
              "</div>\n",
              "      <button class=\"colab-df-convert\" onclick=\"convertToInteractive('df-e6720059-e2ee-4b3d-baeb-95c18f039077')\"\n",
              "              title=\"Convert this dataframe to an interactive table.\"\n",
              "              style=\"display:none;\">\n",
              "        \n",
              "  <svg xmlns=\"http://www.w3.org/2000/svg\" height=\"24px\"viewBox=\"0 0 24 24\"\n",
              "       width=\"24px\">\n",
              "    <path d=\"M0 0h24v24H0V0z\" fill=\"none\"/>\n",
              "    <path d=\"M18.56 5.44l.94 2.06.94-2.06 2.06-.94-2.06-.94-.94-2.06-.94 2.06-2.06.94zm-11 1L8.5 8.5l.94-2.06 2.06-.94-2.06-.94L8.5 2.5l-.94 2.06-2.06.94zm10 10l.94 2.06.94-2.06 2.06-.94-2.06-.94-.94-2.06-.94 2.06-2.06.94z\"/><path d=\"M17.41 7.96l-1.37-1.37c-.4-.4-.92-.59-1.43-.59-.52 0-1.04.2-1.43.59L10.3 9.45l-7.72 7.72c-.78.78-.78 2.05 0 2.83L4 21.41c.39.39.9.59 1.41.59.51 0 1.02-.2 1.41-.59l7.78-7.78 2.81-2.81c.8-.78.8-2.07 0-2.86zM5.41 20L4 18.59l7.72-7.72 1.47 1.35L5.41 20z\"/>\n",
              "  </svg>\n",
              "      </button>\n",
              "      \n",
              "  <style>\n",
              "    .colab-df-container {\n",
              "      display:flex;\n",
              "      flex-wrap:wrap;\n",
              "      gap: 12px;\n",
              "    }\n",
              "\n",
              "    .colab-df-convert {\n",
              "      background-color: #E8F0FE;\n",
              "      border: none;\n",
              "      border-radius: 50%;\n",
              "      cursor: pointer;\n",
              "      display: none;\n",
              "      fill: #1967D2;\n",
              "      height: 32px;\n",
              "      padding: 0 0 0 0;\n",
              "      width: 32px;\n",
              "    }\n",
              "\n",
              "    .colab-df-convert:hover {\n",
              "      background-color: #E2EBFA;\n",
              "      box-shadow: 0px 1px 2px rgba(60, 64, 67, 0.3), 0px 1px 3px 1px rgba(60, 64, 67, 0.15);\n",
              "      fill: #174EA6;\n",
              "    }\n",
              "\n",
              "    [theme=dark] .colab-df-convert {\n",
              "      background-color: #3B4455;\n",
              "      fill: #D2E3FC;\n",
              "    }\n",
              "\n",
              "    [theme=dark] .colab-df-convert:hover {\n",
              "      background-color: #434B5C;\n",
              "      box-shadow: 0px 1px 3px 1px rgba(0, 0, 0, 0.15);\n",
              "      filter: drop-shadow(0px 1px 2px rgba(0, 0, 0, 0.3));\n",
              "      fill: #FFFFFF;\n",
              "    }\n",
              "  </style>\n",
              "\n",
              "      <script>\n",
              "        const buttonEl =\n",
              "          document.querySelector('#df-e6720059-e2ee-4b3d-baeb-95c18f039077 button.colab-df-convert');\n",
              "        buttonEl.style.display =\n",
              "          google.colab.kernel.accessAllowed ? 'block' : 'none';\n",
              "\n",
              "        async function convertToInteractive(key) {\n",
              "          const element = document.querySelector('#df-e6720059-e2ee-4b3d-baeb-95c18f039077');\n",
              "          const dataTable =\n",
              "            await google.colab.kernel.invokeFunction('convertToInteractive',\n",
              "                                                     [key], {});\n",
              "          if (!dataTable) return;\n",
              "\n",
              "          const docLinkHtml = 'Like what you see? Visit the ' +\n",
              "            '<a target=\"_blank\" href=https://colab.research.google.com/notebooks/data_table.ipynb>data table notebook</a>'\n",
              "            + ' to learn more about interactive tables.';\n",
              "          element.innerHTML = '';\n",
              "          dataTable['output_type'] = 'display_data';\n",
              "          await google.colab.output.renderOutput(dataTable, element);\n",
              "          const docLink = document.createElement('div');\n",
              "          docLink.innerHTML = docLinkHtml;\n",
              "          element.appendChild(docLink);\n",
              "        }\n",
              "      </script>\n",
              "    </div>\n",
              "  </div>\n",
              "  "
            ]
          },
          "metadata": {},
          "execution_count": 37
        }
      ]
    },
    {
      "cell_type": "code",
      "source": [
        "\n",
        "def PFEquation(OffArr,OffDF,OffCoef):\n",
        "  outArr = []\n",
        "  for i in OffTest.index:\n",
        "    tempOut = OffCoef + (OffArr[0]*OffTest['TO/P'][i]) + (OffArr[1]*OffTest['1stD/P'][i]) +  (OffArr[2]*OffTest['TD/P'][i]) + (OffArr[3]*OffTest['Pen/P'][i])\n",
        "    outArr.append(tempOut)\n",
        "  return outArr"
      ],
      "metadata": {
        "id": "uFW_u5UJ8dLz"
      },
      "execution_count": null,
      "outputs": []
    },
    {
      "cell_type": "code",
      "source": [
        "def PAEquation(DefArr,DefDF,DefInt):\n",
        "  outArr = []\n",
        "  for i in OffTest.index:\n",
        "    tempOut = DefInt + (DefArr[0]*DefTest['Def Y/P'][i]) + (DefArr[1]*DefTest['Def TO/P'][i]) +  (DefArr[2]*DefTest['Def TD/P'][i]) + (DefArr[3]*DefTest['Def Pen/P'][i])\n",
        "    outArr.append(tempOut)\n",
        "  return outArr"
      ],
      "metadata": {
        "id": "fUJZyS6_Ajna"
      },
      "execution_count": null,
      "outputs": []
    },
    {
      "cell_type": "code",
      "source": [
        "data['Projected PF'] = PFEquation(OffensiveCoef,OffTest,OffensiveInt)\n",
        "data['Projected PA'] = PAEquation(DefensiveCoef,DefTest,DefensiveInt)"
      ],
      "metadata": {
        "id": "oY7n9LvZ9zBC"
      },
      "execution_count": null,
      "outputs": []
    },
    {
      "cell_type": "code",
      "source": [
        "r = data['Projected PF'] / data['Projected PA']\n",
        "data['Projected Win %'] = (r**2)/((r**2) +1)\n",
        "data['Projected Win Diff'] = abs(data['W-L%'] - data['Projected Win %'])\n",
        "data['Projected PA Diff'] = abs(data['PA'] - data['Projected PA'])\n",
        "data['Projected PF Diff'] = abs(data['PF'] - data['Projected PF'])"
      ],
      "metadata": {
        "id": "5QIec2XwCHnR"
      },
      "execution_count": null,
      "outputs": []
    },
    {
      "cell_type": "code",
      "source": [
        "ProjWinDiffMean = data['Projected Win Diff'].mean()\n",
        "print(\"New Projected Win-Loss % Error: \"+ str(ProjWinDiffMean))\n",
        "ProjPAMean = data['Projected PA Diff'].mean() / data['PA'].mean()\n",
        "print(\"New Projected Points Allowed % Error: \"+ str(ProjPAMean))\n",
        "ProjPFMean = data['Projected PF Diff'].mean()/ data['PF'].mean()\n",
        "print(\"New Projected Points For % Error: \"+ str(ProjPFMean))"
      ],
      "metadata": {
        "colab": {
          "base_uri": "https://localhost:8080/"
        },
        "id": "ZcwqrawWDnRD",
        "outputId": "28ffbe78-6903-4b49-a3cc-5a620456ca8f"
      },
      "execution_count": null,
      "outputs": [
        {
          "output_type": "stream",
          "name": "stdout",
          "text": [
            "New Projected Win-Loss % Error: 0.09101587822813692\n",
            "New Projected Points Allowed % Error: 0.05601392752892514\n",
            "New Projected Points For % Error: 0.05733806598675818\n"
          ]
        }
      ]
    },
    {
      "cell_type": "markdown",
      "source": [
        "With an error of 9.1%, that roughly equates to 1-1/2 regular season NFL game. Not as good as our pythagorean model.\n",
        "\n",
        "However, using linear regression for Points Allowed and Points For gave us respective functions that were able to predict within ~5.65% error. That equates to around 20 points over the course of a season, or just 1.17 points per game."
      ],
      "metadata": {
        "id": "Z9yDg2VdfbS4"
      }
    },
    {
      "cell_type": "markdown",
      "source": [
        "**Using Distribution Methods to predict the probability of events occuring**"
      ],
      "metadata": {
        "id": "2qCS1EVuKdMS"
      }
    },
    {
      "cell_type": "markdown",
      "source": [
        "The third part of this project is to come up with probability and distribution for given variables that can be associate specifically with a 10 win team (58.82 win %), which has been a guaranteed win threshhold for a playoff team since the league moved to a 17 game season."
      ],
      "metadata": {
        "id": "Mgi2NB3-KmFS"
      }
    },
    {
      "cell_type": "markdown",
      "source": [
        "Use Poisson Distribution to find the probability of a certain number of teams per season having point differentials above average values for a top 16 team, top 14 team (playoff caliber), and top 8 team."
      ],
      "metadata": {
        "id": "D-h5mX3GiEp4"
      }
    },
    {
      "cell_type": "code",
      "source": [
        "import math\n",
        "\n",
        "def poissonDist(k,lam):\n",
        "  euler = 2.71828\n",
        "  num = (lam ** k) * (euler ** (-lam))\n",
        "  den = math.factorial(k)\n",
        "  return num/den\n",
        "  "
      ],
      "metadata": {
        "id": "FbE6ii27VIpV"
      },
      "execution_count": null,
      "outputs": []
    },
    {
      "cell_type": "code",
      "source": [
        "quantArr = data.PD.quantile([0.5,0.5625,0.75])"
      ],
      "metadata": {
        "id": "H5OrnJrkYUte"
      },
      "execution_count": null,
      "outputs": []
    },
    {
      "cell_type": "code",
      "source": [
        "data.columns"
      ],
      "metadata": {
        "colab": {
          "base_uri": "https://localhost:8080/"
        },
        "id": "EHTsE2hlkpPx",
        "outputId": "dc5f225f-cfba-4945-f033-1863ff2de383"
      },
      "execution_count": null,
      "outputs": [
        {
          "output_type": "execute_result",
          "data": {
            "text/plain": [
              "Index(['Unnamed: 0', 'Tm', 'W', 'L', 'T', 'W-L%', 'PF', 'PA', 'PD', 'MoV',\n",
              "       'SoS', 'SRS', 'OSRS', 'DSRS', 'Rk', 'G', 'Off Yds', 'Ply', 'Y/P', 'TO',\n",
              "       'Fl', '1stD', 'Cmp', 'Passing Att', 'Pass Yds', 'Pass TDs', 'Int',\n",
              "       'NY/A', 'Pass 1stD', 'Rush Att', 'Rush Yds', 'Rush TD', 'Rush Y/A',\n",
              "       'Rush 1stD', 'Pen', 'Pen Yds', 'Pen 1stPy', 'Sc%', 'TO%', 'EXP',\n",
              "       'Def Yds', 'Def Ply', 'Def Y/P', 'Def TO', 'Def Fl', 'Def 1stD',\n",
              "       'Def Cmp', 'Def Passing Att', 'Def Pass Yds', 'Def Pass TDs', 'Def Int',\n",
              "       'Def NY/A', 'Def Pass 1stD', 'Def Rush Att', 'Def Rush Yds',\n",
              "       'Def Rush TD', 'Def Rush Y/A', 'Def Rush 1stD', 'Def Pen',\n",
              "       'Def Pen Yds', 'Def Pen 1stPy', 'Def Sc%', 'Def TO%', 'Def EXP',\n",
              "       'Pred Win %', 'W-L Diff', 'Exponent', 'Cmp %', 'PG Rate', '1D per Play',\n",
              "       'TD per Play', 'TD/P', '1stD/P', 'TO/P', 'Pen/P', 'Projected PF',\n",
              "       'Projected PA', 'Projected Win %', 'Projected Win Diff',\n",
              "       'Projected PA Diff', 'Projected PF Diff'],\n",
              "      dtype='object')"
            ]
          },
          "metadata": {},
          "execution_count": 130
        }
      ]
    },
    {
      "cell_type": "code",
      "source": [
        "data2 = data.rename(columns={\"Y/P\": \"YperP\",\"Def Y/P\": \"DYperP\",\"W-L%\":\"WinLossPer\"})"
      ],
      "metadata": {
        "id": "48iTmdT4lBP-"
      },
      "execution_count": null,
      "outputs": []
    },
    {
      "cell_type": "code",
      "source": [
        "#Average top 14 team values for PF and PA.\n",
        "pf = data2.PF.quantile([0.5625])\n",
        "pa = data2.PA.quantile([0.4375])\n",
        "pf = pf.iloc[0]\n",
        "pa = pa.iloc[0]\n",
        "\n",
        "pfCount = 0\n",
        "paCount = 0\n",
        "for i in range(0,len(data)):\n",
        "  if data2['PF'][i] >= pf:\n",
        "    pfCount += 1\n",
        "  if data2['PA'][i] <= pa:\n",
        "    paCount += 1\n"
      ],
      "metadata": {
        "id": "xy9sFca_kWqe"
      },
      "execution_count": null,
      "outputs": []
    },
    {
      "cell_type": "code",
      "source": [
        "median = quantArr.iloc[0]\n",
        "playoffQuantile = quantArr.iloc[1]\n",
        "thirdQuantile = quantArr.iloc[2]"
      ],
      "metadata": {
        "id": "XZJIh2tlY6tQ"
      },
      "execution_count": null,
      "outputs": []
    },
    {
      "cell_type": "code",
      "source": [
        "medCount = 0\n",
        "thirdCount = 0\n",
        "playoffCount = 0\n",
        "numSeasons = 0\n",
        "for i in range(0,len(data)):\n",
        "  if data['Tm'][i] == 'Buffalo Bills':\n",
        "    numSeasons += 1\n",
        "  if data['PD'][i] >= median:\n",
        "    medCount += 1\n",
        "    if data['PD'][i] >= playoffQuantile:\n",
        "      playoffCount += 1\n",
        "      if data['PD'][i] >= thirdQuantile:\n",
        "        thirdCount += 1"
      ],
      "metadata": {
        "id": "G68eCAEIX1JJ"
      },
      "execution_count": null,
      "outputs": []
    },
    {
      "cell_type": "code",
      "source": [
        "medCount = medCount / numSeasons\n",
        "thirdCount = thirdCount / numSeasons\n",
        "playoffCount = playoffCount / numSeasons\n",
        "ypaCount = pfCount / numSeasons\n",
        "dypaCount = paCount / numSeasons"
      ],
      "metadata": {
        "id": "tjP2cLq0bq6P"
      },
      "execution_count": null,
      "outputs": []
    },
    {
      "cell_type": "code",
      "source": [
        "medArr = []\n",
        "pfArr = []\n",
        "playoffArr = []\n",
        "thirdArr = []\n",
        "paArr = []\n",
        "for i in range(0,32):\n",
        "  medArr.append(poissonDist(i,medCount))\n",
        "  thirdArr.append(poissonDist(i,thirdCount))\n",
        "  playoffArr.append(poissonDist(i,playoffCount))\n",
        "  pfArr.append(poissonDist(i,ypaCount))\n",
        "  paArr.append(poissonDist(i,dypaCount))"
      ],
      "metadata": {
        "id": "-dImIbTRbxBX"
      },
      "execution_count": null,
      "outputs": []
    },
    {
      "cell_type": "code",
      "source": [
        " \n",
        "# data to be plotted\n",
        "y = np.array(medArr)\n",
        "x = np.arange(0,32)\n",
        "y2 = np.array(thirdArr)\n",
        "y3 = np.array(playoffArr)\n",
        " \n",
        "# plotting\n",
        "plt.title(\"Probabilities of a # of Teams achieving a W %\")\n",
        "plt.xlabel(\"# of teams\")\n",
        "plt.ylabel(\"Probibilty\")\n",
        "plt.plot(x, y, label =\"Top Half\",color =\"red\")\n",
        "plt.plot(x, y2, label =\"Top Third\", color =\"blue\")\n",
        "plt.plot(x, y3, label =\"Top 14\", color =\"green\")\n",
        "\n",
        "plt.legend()\n",
        "plt.show()"
      ],
      "metadata": {
        "colab": {
          "base_uri": "https://localhost:8080/",
          "height": 295
        },
        "id": "5Sz50FGgdhup",
        "outputId": "bb636dbf-5f21-46f3-f2a0-0ce41aa55a4b"
      },
      "execution_count": null,
      "outputs": [
        {
          "output_type": "display_data",
          "data": {
            "text/plain": [
              "<Figure size 432x288 with 1 Axes>"
            ],
            "image/png": "[encoded data removed]"
          },
          "metadata": {
            "needs_background": "light"
          }
        }
      ]
    },
    {
      "cell_type": "markdown",
      "source": [
        "Nest, I use conditional probability to find the probability of a team having 10 wins given a set of variables."
      ],
      "metadata": {
        "id": "O9C6jdCaneLr"
      }
    },
    {
      "cell_type": "code",
      "source": [
        "#Constant probability of a team being in the top 14 on a per season basis.\n",
        "constantProb = 14/32"
      ],
      "metadata": {
        "id": "WLNm6rDGLzMd"
      },
      "execution_count": null,
      "outputs": []
    },
    {
      "cell_type": "code",
      "source": [
        "#Using the dataset, find how often cases occur where the Point Differential, Points Allowed, and Points For are in the top 14 and they have 10 wins.\n",
        "pdCount = 0\n",
        "paCount = 0\n",
        "pfCount = 0\n",
        "for i in range(0,len(data2)):\n",
        "  if data2['PD'][i] >= playoffQuantile and data2['WinLossPer'][i] >= 0.58:\n",
        "    pdCount += 1\n",
        "  if data2['PA'][i] <= pa and data2['WinLossPer'][i] >= 0.58:\n",
        "    paCount += 1\n",
        "  if data2['PF'][i] >= pf and data2['WinLossPer'][i] >= 0.58:\n",
        "    pfCount += 1\n",
        "pdCount = pdCount/len(data2)\n",
        "paCount = paCount/len(data2)\n",
        "pfCount = pfCount/len(data2)"
      ],
      "metadata": {
        "id": "fwd-sewGrBcH"
      },
      "execution_count": null,
      "outputs": []
    },
    {
      "cell_type": "code",
      "source": [
        "# Conditional Probability that a team will have 10 wins if it has a top 14 Point Differential.\n",
        "conProbOne = pdCount / constantProb\n",
        "conProbOne"
      ],
      "metadata": {
        "colab": {
          "base_uri": "https://localhost:8080/"
        },
        "id": "eDMhvREztRPP",
        "outputId": "c4d2c18a-8c4b-4c9b-a4f1-d3f12eb7a285"
      },
      "execution_count": null,
      "outputs": [
        {
          "output_type": "execute_result",
          "data": {
            "text/plain": [
              "0.7518796992481204"
            ]
          },
          "metadata": {},
          "execution_count": 144
        }
      ]
    },
    {
      "cell_type": "code",
      "source": [
        "# Conditional Probability that a team will have 10 wins if it has a top 14 Points For.\n",
        "conProbTwo = pfCount / constantProb\n",
        "conProbTwo"
      ],
      "metadata": {
        "id": "tR8wrEf9t5ee",
        "colab": {
          "base_uri": "https://localhost:8080/"
        },
        "outputId": "6cd652ec-65ed-448a-8cea-1bbabc0181fe"
      },
      "execution_count": null,
      "outputs": [
        {
          "output_type": "execute_result",
          "data": {
            "text/plain": [
              "0.650375939849624"
            ]
          },
          "metadata": {},
          "execution_count": 141
        }
      ]
    },
    {
      "cell_type": "code",
      "source": [
        "# Conditional Probability that a team will have 10 wins if it has a top 14 Points Allowed.\n",
        "conProbThree = paCount / constantProb\n",
        "conProbThree"
      ],
      "metadata": {
        "id": "llxjlcMAt4HP",
        "colab": {
          "base_uri": "https://localhost:8080/"
        },
        "outputId": "45fcef28-1479-4986-921b-ed19e5dc849a"
      },
      "execution_count": null,
      "outputs": [
        {
          "output_type": "execute_result",
          "data": {
            "text/plain": [
              "0.5977443609022556"
            ]
          },
          "metadata": {},
          "execution_count": 142
        }
      ]
    },
    {
      "cell_type": "code",
      "source": [
        "denCount = 0\n",
        "numCount = 0\n",
        "for i in range(0,len(data2)):\n",
        "  if data2['PD'][i] >= playoffQuantile and data2['WinLossPer'][i] >= 0.58 and data2['PF'][i] >= pf:\n",
        "    numCount += 1\n",
        "  if data2['PD'][i] >= playoffQuantile and data2['PF'][i] >=pf:\n",
        "    denCount += 1\n",
        "\n",
        "denCount = denCount / len(data2)\n",
        "numCount = numCount / len(data2)\n",
        "conProbFour = numCount / denCount"
      ],
      "metadata": {
        "id": "jF-6LJ86yLIs"
      },
      "execution_count": null,
      "outputs": []
    },
    {
      "cell_type": "code",
      "source": [
        "# Probability that a team will have 10 wins and top 14 in Point Differential and Points For.\n",
        "conProbFour"
      ],
      "metadata": {
        "colab": {
          "base_uri": "https://localhost:8080/"
        },
        "id": "qAJFZfP4zSzp",
        "outputId": "afacdc8b-1bd1-4acc-c75d-a11160be28d8"
      },
      "execution_count": null,
      "outputs": [
        {
          "output_type": "execute_result",
          "data": {
            "text/plain": [
              "0.8203883495145631"
            ]
          },
          "metadata": {},
          "execution_count": 146
        }
      ]
    },
    {
      "cell_type": "code",
      "source": [
        "denCount = 0\n",
        "numCount = 0\n",
        "for i in range(0,len(data2)):\n",
        "  if data2['PD'][i] >= playoffQuantile and data2['WinLossPer'][i] >= 0.58 and data2['PA'][i] <= pa:\n",
        "    numCount += 1\n",
        "  if data2['PD'][i] >= playoffQuantile and data2['PA'][i] <= pa:\n",
        "    denCount += 1\n",
        "\n",
        "denCount = denCount / len(data2)\n",
        "numCount = numCount / len(data2)\n",
        "conProbFive = numCount / denCount"
      ],
      "metadata": {
        "id": "wG7vCcba09cW"
      },
      "execution_count": null,
      "outputs": []
    },
    {
      "cell_type": "code",
      "source": [
        "# Probability that a team will have 10 wins and top 14 in Point Differential and Points Against.\n",
        "conProbFive"
      ],
      "metadata": {
        "colab": {
          "base_uri": "https://localhost:8080/"
        },
        "id": "N9gqJsZy0_nJ",
        "outputId": "ae8e8c4a-feb0-4005-cf87-34af17a3733c"
      },
      "execution_count": null,
      "outputs": [
        {
          "output_type": "execute_result",
          "data": {
            "text/plain": [
              "0.7857142857142857"
            ]
          },
          "metadata": {},
          "execution_count": 148
        }
      ]
    },
    {
      "cell_type": "code",
      "source": [
        "denCount = 0\n",
        "numCount = 0\n",
        "for i in range(0,len(data2)):\n",
        "  if data2['PD'][i] >= playoffQuantile and data2['WinLossPer'][i] >= 0.58 and data2['PF'][i] >= pf and data2['PA'][i] <= pa:\n",
        "    numCount += 1\n",
        "  if data2['PD'][i] >= playoffQuantile and data2['PF'][i] >= pf and data2['PA'][i] <= pa:\n",
        "    denCount += 1\n",
        "\n",
        "denCount = denCount / len(data2)\n",
        "numCount = numCount / len(data2)\n",
        "conProbSix = numCount / denCount"
      ],
      "metadata": {
        "id": "SpR_IZiJ0mfX"
      },
      "execution_count": null,
      "outputs": []
    },
    {
      "cell_type": "code",
      "source": [
        "# Probability that a team will have 10 wins and top 14 in Point Differential, Points For and Points Against.\n",
        "conProbSix"
      ],
      "metadata": {
        "colab": {
          "base_uri": "https://localhost:8080/"
        },
        "id": "go6qZ9RC0xPX",
        "outputId": "c2714c1a-4cca-4b8d-8e0d-7543edbd161a"
      },
      "execution_count": null,
      "outputs": [
        {
          "output_type": "execute_result",
          "data": {
            "text/plain": [
              "0.8978102189781022"
            ]
          },
          "metadata": {},
          "execution_count": 150
        }
      ]
    },
    {
      "cell_type": "markdown",
      "source": [
        "The following is the determined chance of a team having a 10 win season with these conditions:\n",
        "\n",
        "\n",
        "*   Top 14 Team in Point Differential - **75.2%**\n",
        "*   Top 14 Team in Points Allowed - **65.0%**\n",
        "*   Top 14 Team in Points For - **59.8%**\n",
        "*   Top 14 Team in Point Differential & Points Allowed - **78.6%**\n",
        "*   Top 14 Team in Point Differential & Points For - **82.0%**\n",
        "*   Top 14 Team in Point Differential, Points Allowed & Points For - **89.8%**"
      ],
      "metadata": {
        "id": "3FOcQ_qmmcuW"
      }
    }
  ]
}